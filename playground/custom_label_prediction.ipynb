{
 "cells": [
  {
   "cell_type": "code",
   "execution_count": null,
   "metadata": {},
   "outputs": [],
   "source": [
    "Amazon Rekognition Custom Label\n",
    "- This notebook is used for demo Amazon Rekognition Custom Label by reading image from Amazon S3 and categorize image based-on customer label data."
   ]
  },
  {
   "cell_type": "code",
   "execution_count": null,
   "metadata": {
    "scrolled": true
   },
   "outputs": [],
   "source": [
    "# import required packages\n",
    "import boto3\n",
    "import json\n",
    "from IPython.display import Image, display\n",
    "\n",
    "# aws service client\n",
    "s3_obj = boto3.client('s3')\n",
    "s3_bucket_name = \"nutcha-sagemaker-bucket\"\n",
    "s3_key = \"images/\"\n",
    "s3_filename = \"src_image.jpg\"\n",
    "\n",
    "# display image on output\n",
    "display(Image(url=s3_obj.generate_presigned_url('get_object', Params={'Bucket': s3_bucket_name, 'Key': s3_key + s3_filename})))"
   ]
  },
  {
   "cell_type": "code",
   "execution_count": null,
   "metadata": {},
   "outputs": [],
   "source": [
    "# test on the model\n",
    "rekognition_obj = boto3.client('rekognition')\n",
    "rekognition_project_arn = \"arn:aws:rekognition:us-east-1:000000000000:project/nutcha-custom-label/version/nutcha-custom-custom-label.2020-06-08T13.55.38/1591253339120\"\n",
    "image_name = s3_key + s3_filename\n",
    "\n",
    "# get image object\n",
    "response = s3_obj.get_object(\n",
    "    Bucket=s3_bucket_name,\n",
    "    Key=image_name\n",
    ")\n",
    "# read data from s3 as bytes\n",
    "image_raw = response['Body']\n",
    "image_bytes = image_raw.read()\n",
    "\n",
    "# test rekognition customer label\n",
    "response = rekognition_obj.detect_custom_labels(ProjectVersionArn=rekognition_project_arn, Image={'Bytes': image_bytes})\n",
    "print(\"Image name is {}\".format(image_name))\n",
    "print(\"----------------------------------------\")\n",
    "print(json.dumps(response, sort_keys=True, indent=4))"
   ]
  }
 ],
 "metadata": {
  "kernelspec": {
   "display_name": "conda_python3",
   "language": "python",
   "name": "conda_python3"
  },
  "language_info": {
   "codemirror_mode": {
    "name": "ipython",
    "version": 3
   },
   "file_extension": ".py",
   "mimetype": "text/x-python",
   "name": "python",
   "nbconvert_exporter": "python",
   "pygments_lexer": "ipython3",
   "version": "3.6.5"
  }
 },
 "nbformat": 4,
 "nbformat_minor": 4
}