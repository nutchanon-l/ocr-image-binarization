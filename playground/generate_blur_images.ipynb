{
 "cells": [
  {
   "cell_type": "code",
   "execution_count": null,
   "metadata": {},
   "outputs": [],
   "source": [
    "# import required packages\n",
    "import boto3\n",
    "import json\n",
    "\n",
    "# aws service client\n",
    "s3_obj = boto3.client('s3')"
   ]
  },
  {
   "cell_type": "code",
   "execution_count": null,
   "metadata": {},
   "outputs": [],
   "source": [
    "# analyze image with Rekognition Custom Label\n",
    "s3_bucket_name = \"nutcha-sagemaker-bucket\"\n",
    "\n",
    "# get image keys from s3 bucket\n",
    "response = s3_obj.list_objects_v2(\n",
    "    Bucket=s3_bucket_name,\n",
    "    MaxKeys=100,\n",
    "    Prefix='images'\n",
    ")\n",
    "\n",
    "# provide keys as input\n",
    "keys = []\n",
    "for obj in response['Contents']:\n",
    "    keys.append(obj['Key'])\n",
    "print(\"Number of keys = {}\".format(len(keys)))"
   ]
  },
  {
   "cell_type": "code",
   "execution_count": null,
   "metadata": {},
   "outputs": [],
   "source": [
    "# import opencv for image processing\n",
    "!pip3 install opencv-python &> /dev/null\n",
    "import cv2\n",
    "import numpy as np\n",
    "\n",
    "target_s3_key = \"target_images\"\n",
    "\n",
    "# loop in to image keys\n",
    "for s3_key in keys:\n",
    "    print(\"Working on '{}''\".format(s3_key))\n",
    "    try:\n",
    "        # split prefix, image and suffix\n",
    "        file_name = s3_key.split('/')[-1]\n",
    "        first_name = file_name.split('.')[0]\n",
    "        last_name = file_name.split('.')[1]\n",
    "\n",
    "        # get image object from s3 bucket\n",
    "        response = s3_obj.get_object(Bucket=s3_bucket_name,Key=s3_key)\n",
    "        \n",
    "        # read data from s3 as bytes\n",
    "        image_raw = response['Body']\n",
    "        image_bytes = image_raw.read()\n",
    "\n",
    "        # convert image bytes array into numpy array\n",
    "        nparr = np.frombuffer(image_bytes, np.uint8)\n",
    "        img_np = cv2.imdecode(nparr, cv2.IMREAD_COLOR)\n",
    "        \n",
    "        # make image as blur\n",
    "        img_blur = cv2.medianBlur(img_np,5)\n",
    "        # ret,th1 = cv2.threshold(img_blur,127,255,cv2.THRESH_BINARY)\n",
    "\n",
    "        # convert byted image back to original image format\n",
    "        success, encoded_image = cv2.imencode('.jpg', img_blur)\n",
    "        print(\"Convert image status = {}\".format(success))\n",
    "\n",
    "        # put image to back to s3 bucket\n",
    "        response = s3_obj.put_object(\n",
    "            Body=encoded_image.tobytes(),\n",
    "            Bucket=s3_bucket_name,\n",
    "            Key=target_s3_key + \"/\" + first_name + \"_new\" + \".\" + last_name\n",
    "        )\n",
    "        print(\"Uploaded success\")\n",
    "        \n",
    "    except IndexError as ie:\n",
    "        # in case of key failure\n",
    "        print(ie)"
   ]
  },
  {
   "cell_type": "code",
   "execution_count": null,
   "metadata": {},
   "outputs": [],
   "source": [
    "# import required packages\n",
    "from IPython.display import Image, display\n",
    "\n",
    "# aws service client\n",
    "s3_obj = boto3.client('s3')\n",
    "s3_key = target_s3_key + '/'\n",
    "s3_filename = \"src_image_new.jpg\"\n",
    "\n",
    "# display image on output\n",
    "display(Image(url=s3_obj.generate_presigned_url('get_object', Params={'Bucket': s3_bucket_name, 'Key': s3_key + s3_filename})))"
   ]
  }
 ],
 "metadata": {
  "kernelspec": {
   "display_name": "conda_python3",
   "language": "python",
   "name": "conda_python3"
  },
  "language_info": {
   "codemirror_mode": {
    "name": "ipython",
    "version": 3
   },
   "file_extension": ".py",
   "mimetype": "text/x-python",
   "name": "python",
   "nbconvert_exporter": "python",
   "pygments_lexer": "ipython3",
   "version": "3.6.5"
  }
 },
 "nbformat": 4,
 "nbformat_minor": 4
}