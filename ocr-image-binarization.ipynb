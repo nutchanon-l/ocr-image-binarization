{
 "cells": [
  {
   "cell_type": "code",
   "execution_count": null,
   "metadata": {},
   "outputs": [],
   "source": [
    "# import required packages\n",
    "import boto3\n",
    "import json\n",
    "import math\n",
    "from IPython.display import Image, display\n",
    "from matplotlib import pyplot as plt\n",
    "\n",
    "# aws service client\n",
    "s3_obj = boto3.client('s3')"
   ]
  },
  {
   "cell_type": "code",
   "execution_count": null,
   "metadata": {},
   "outputs": [],
   "source": [
    "# install OpenCV and import cv2\n",
    "!pip3 install opencv-python &> /dev/null\n",
    "import cv2\n",
    "import numpy as np\n",
    "\n",
    "# read image from Amazon S3 as bytes format\n",
    "s3_bucket_name = \"nutcha-sagemaker-bucket\"\n",
    "image_name = \"images/src_image.jpg\"\n",
    "response = s3_obj.get_object(\n",
    "    Bucket=s3_bucket_name,\n",
    "    Key=image_name\n",
    ")\n",
    "\n",
    "image_printing = []\n",
    "image_raw = response['Body']\n",
    "image_bytes = image_raw.read()\n",
    "\n",
    "# convert image bytes array into numpy array\n",
    "nparr = np.frombuffer(image_bytes, np.uint8)\n",
    "img_origin = cv2.imdecode(nparr, cv2.IMREAD_COLOR)\n",
    "# 1st image\n",
    "image_printing.append([\"Original image\", img_origin])\n",
    "# image_printing.append([\"Before\", img_origin])\n",
    "\n",
    "# make the image blur\n",
    "img_blur = cv2.medianBlur(img_origin,5)\n",
    "image_printing.append([\"Blured image\", img_blur])\n",
    "\n",
    "# make image more cleansing\n",
    "# ret,th4 = cv2.threshold(img_blur,210,255,cv2.THRESH_BINARY)\n",
    "# image_printing.append([\"Global Thresholding (v = 210)\", th4])\n",
    "\n",
    "# gray image\n",
    "gray_img = cv2.cvtColor(img_blur, cv2.COLOR_BGR2GRAY)\n",
    "image_printing.append([\"Gray image\", gray_img])\n",
    "\n",
    "# make image more cleansing\n",
    "# ret,th1 = cv2.threshold(gray_img,127,255,cv2.THRESH_BINARY)\n",
    "# image_printing.append([\"Global Thresholding (v = 127)\", th1])\n",
    "\n",
    "# th2 = cv2.adaptiveThreshold(gray_img,255,cv2.ADAPTIVE_THRESH_MEAN_C,cv2.THRESH_BINARY,11,2)\n",
    "# image_printing.append([\"Adaptive Mean Thresholding\", th2])\n",
    "\n",
    "th3 = cv2.adaptiveThreshold(gray_img,255,cv2.ADAPTIVE_THRESH_GAUSSIAN_C, cv2.THRESH_BINARY,11,2)\n",
    "image_printing.append([\"Adaptive Gaussian Thresholding\", th3])\n",
    "\n",
    "# image_printing.append([\"After\", th3])\n",
    "\n",
    "# reduce noice\n",
    "# img_noiced = cv2.fastNlMeansDenoisingColored(img_np,None,20,10,7,21)\n",
    "# image_printing.append([\"Reduce noice\", img_noiced])\n",
    "\n",
    "# prepare to save processed image\n",
    "processed_image = th3"
   ]
  },
  {
   "cell_type": "code",
   "execution_count": null,
   "metadata": {},
   "outputs": [],
   "source": [
    "# printing images\n",
    "plt.close()\n",
    "figure_size = 50\n",
    "plt.figure(figsize=(20,figure_size))\n",
    "num_col = 2\n",
    "num_row = math.ceil((len(image_printing)+1) / num_col)\n",
    "image_count = 1\n",
    "for image in image_printing:\n",
    "    plt.subplot(num_row,num_col,image_count)\n",
    "    plt.title(image[0])\n",
    "    plt.imshow(image[1],cmap='gray')\n",
    "    image_count=image_count+1\n",
    "plt.show()"
   ]
  },
  {
   "cell_type": "code",
   "execution_count": null,
   "metadata": {},
   "outputs": [],
   "source": [
    "# save processed image back to s3 bucket\n",
    "target_s3_bucket = \"nutcha-sagemaker-bucket\"\n",
    "target_s3_prefix = \"target_images/\"\n",
    "original_image_name = image_name.split('/')[-1]\n",
    "\n",
    "# convert byted image back to original image format\n",
    "success, encoded_image = cv2.imencode('.jpg', processed_image)\n",
    "print(\"Convert image status = {}\".format(success))\n",
    "\n",
    "# put image to back to s3 bucket\n",
    "response = s3_obj.put_object(\n",
    "    Body=encoded_image.tobytes(),\n",
    "    Bucket=target_s3_bucket,\n",
    "    Key=target_s3_prefix + \"post_\" + original_image_name\n",
    ")\n",
    "print(\"Uploaded success\")"
   ]
  },
  {
   "cell_type": "code",
   "execution_count": null,
   "metadata": {},
   "outputs": [],
   "source": []
  }
 ],
 "metadata": {
  "kernelspec": {
   "display_name": "conda_python3",
   "language": "python",
   "name": "conda_python3"
  },
  "language_info": {
   "codemirror_mode": {
    "name": "ipython",
    "version": 3
   },
   "file_extension": ".py",
   "mimetype": "text/x-python",
   "name": "python",
   "nbconvert_exporter": "python",
   "pygments_lexer": "ipython3",
   "version": "3.6.10"
  }
 },
 "nbformat": 4,
 "nbformat_minor": 4
}